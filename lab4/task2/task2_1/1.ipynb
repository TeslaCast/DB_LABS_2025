{
 "cells": [
  {
   "cell_type": "markdown",
   "id": "4a781cd5",
   "metadata": {},
   "source": [
    "1.\tНапишите скрипт, который возвращает фамилию, имя студентов со счастливым студенческим билетом (сумма первых трех цифр номера билета совпадает с суммой последних трех)"
   ]
  },
  {
   "cell_type": "code",
   "execution_count": null,
   "id": "831fefb6",
   "metadata": {
    "vscode": {
     "languageId": "plaintext"
    }
   },
   "outputs": [],
   "source": [
    "DO $$\n",
    "DECLARE\n",
    "    r RECORD;\n",
    "    v_student_id_text TEXT;\n",
    "    v_first_sum INTEGER;\n",
    "    v_last_sum INTEGER;\n",
    "BEGIN\n",
    "    FOR r IN \n",
    "        SELECT last_name, first_name, student_id\n",
    "        FROM public.students\n",
    "        WHERE student_id IS NOT NULL\n",
    "    LOOP\n",
    "        -- Преобразуем student_id в текст и добавляем ведущие нули, чтобы длина была минимум 6\n",
    "        v_student_id_text := LPAD(r.student_id::TEXT, 6, '0');\n",
    "        \n",
    "        -- Сумма первых трех цифр\n",
    "        v_first_sum := CAST(SUBSTRING(v_student_id_text FROM 1 FOR 1) AS INTEGER) +\n",
    "                       CAST(SUBSTRING(v_student_id_text FROM 2 FOR 1) AS INTEGER) +\n",
    "                       CAST(SUBSTRING(v_student_id_text FROM 3 FOR 1) AS INTEGER);\n",
    "        \n",
    "        -- Сумма последних трех цифр\n",
    "        v_last_sum := CAST(SUBSTRING(v_student_id_text FROM 4 FOR 1) AS INTEGER) +\n",
    "                      CAST(SUBSTRING(v_student_id_text FROM 5 FOR 1) AS INTEGER) +\n",
    "                      CAST(SUBSTRING(v_student_id_text FROM 6 FOR 1) AS INTEGER);\n",
    "        \n",
    "        -- Проверяем, является ли билет \"счастливым\"\n",
    "        IF v_first_sum = v_last_sum THEN\n",
    "            RAISE NOTICE 'Студент: %, %, студентский билет: %', r.last_name, r.first_name, r.student_id;\n",
    "        END IF;\n",
    "    END LOOP;\n",
    "END $$;"
   ]
  },
  {
   "cell_type": "code",
   "execution_count": null,
   "id": "6de39cc3",
   "metadata": {
    "vscode": {
     "languageId": "plaintext"
    }
   },
   "outputs": [],
   "source": [
    "ффффаыаыа"
   ]
  }
 ],
 "metadata": {
  "language_info": {
   "name": "python"
  }
 },
 "nbformat": 4,
 "nbformat_minor": 5
}
